{
 "cells": [
  {
   "cell_type": "markdown",
   "metadata": {},
   "source": [
    "# Jupyter Notebook"
   ]
  },
  {
   "cell_type": "markdown",
   "metadata": {},
   "source": [
    "The Jupyter Notebook is a web application for interactive data science and scientific computing"
   ]
  },
  {
   "cell_type": "markdown",
   "metadata": {},
   "source": [
    "Using the Jupyter Notebook, you can author engaging documents that combine live-code with narrative text, equations, images, video, and visualizations. By encoding a complete and reproducible record of a computation, the documents can be shared with others on GitHub, Dropbox, and the Jupyter Notebook Viewer."
   ]
  },
  {
   "cell_type": "markdown",
   "metadata": {},
   "source": [
    "## Installation and startup\n",
    "```\n",
    "~$ pip install jupyter\n",
    "~$ jupyter notebook\n",
    "```"
   ]
  },
  {
   "cell_type": "code",
   "execution_count": 154,
   "metadata": {
    "collapsed": true
   },
   "outputs": [],
   "source": [
    "from random import randint"
   ]
  },
  {
   "cell_type": "code",
   "execution_count": 155,
   "metadata": {
    "collapsed": false
   },
   "outputs": [
    {
     "name": "stdout",
     "output_type": "stream",
     "text": [
      "8652810\n",
      "# System-wide .bashrc file for interactive bash(1) shells.\n",
      "if [ -z \"$PS1\" ]; then\n",
      "   return\n",
      "fi\n",
      "\n",
      "PS1='\\h:\\W \\u\\$ '\n",
      "# Make bash check its window size after a process completes\n",
      "shopt -s checkwinsize\n",
      "\n",
      "[ -r \"/etc/bashrc_$TERM_PROGRAM\" ] && . \"/etc/bashrc_$TERM_PROGRAM\"\n",
      "\n"
     ]
    }
   ],
   "source": [
    "print(randint(1, 9999999))\n",
    "with open('/etc/bashrc', 'r') as f:\n",
    "    print(f.read())\n",
    "# Shift+Tab for a docstring :)"
   ]
  },
  {
   "cell_type": "markdown",
   "metadata": {},
   "source": [
    "## Features\n",
    "\n",
    "1. Rich data (e.g. HTML, LaTeX, SVG) in the browser\n",
    "2. Rich text (e.g. Markdown, HTML)\n",
    "3. Mathematical equations, rendered directly in the browser\n",
    "4. Import standard Python scripts\n",
    "5. In-browser editing, syntax highlighting, tab completion and autoindentation\n",
    "6. Inline figures rendering\n"
   ]
  },
  {
   "cell_type": "markdown",
   "metadata": {},
   "source": [
    "# NumPy"
   ]
  },
  {
   "cell_type": "markdown",
   "metadata": {},
   "source": [
    "## Installation\n",
    "```\n",
    "~$ pip install numpy\n",
    "```"
   ]
  },
  {
   "cell_type": "markdown",
   "metadata": {},
   "source": [
    "## Basics"
   ]
  },
  {
   "cell_type": "code",
   "execution_count": 156,
   "metadata": {
    "collapsed": true
   },
   "outputs": [],
   "source": [
    "import numpy as np"
   ]
  },
  {
   "cell_type": "markdown",
   "metadata": {},
   "source": [
    "Main object - homogeneous multidimensional array, a table of elements (usually numbers), all of the same type, indexed by a tuple of positive integers - ***ndarray***  \n",
    "Dimensions - ***axes***  \n",
    "Number of axes - ***rank***"
   ]
  },
  {
   "cell_type": "code",
   "execution_count": 157,
   "metadata": {
    "collapsed": false
   },
   "outputs": [
    {
     "data": {
      "text/plain": [
       "array([[ 0,  1,  2,  3,  4],\n",
       "       [ 5,  6,  7,  8,  9],\n",
       "       [10, 11, 12, 13, 14]])"
      ]
     },
     "execution_count": 157,
     "metadata": {},
     "output_type": "execute_result"
    }
   ],
   "source": [
    "arr = np.array(\n",
    "    [\n",
    "        [0, 1, 2, 3, 4],\n",
    "        [5, 6, 7, 8, 9],\n",
    "        [10, 11, 12, 13, 14]\n",
    "    ]\n",
    ")\n",
    "arr"
   ]
  },
  {
   "cell_type": "code",
   "execution_count": 158,
   "metadata": {
    "collapsed": false
   },
   "outputs": [
    {
     "data": {
      "text/plain": [
       "numpy.ndarray"
      ]
     },
     "execution_count": 158,
     "metadata": {},
     "output_type": "execute_result"
    }
   ],
   "source": [
    "type(arr)"
   ]
  },
  {
   "cell_type": "code",
   "execution_count": 159,
   "metadata": {
    "collapsed": false
   },
   "outputs": [
    {
     "data": {
      "text/plain": [
       "2"
      ]
     },
     "execution_count": 159,
     "metadata": {},
     "output_type": "execute_result"
    }
   ],
   "source": [
    "arr.ndim  # number of axes (dimensions)"
   ]
  },
  {
   "cell_type": "code",
   "execution_count": 160,
   "metadata": {
    "collapsed": false
   },
   "outputs": [
    {
     "data": {
      "text/plain": [
       "(3, 5)"
      ]
     },
     "execution_count": 160,
     "metadata": {},
     "output_type": "execute_result"
    }
   ],
   "source": [
    "arr.shape  # dimensions (a tuple of integers indicating the size of the array in each dimension)"
   ]
  },
  {
   "cell_type": "code",
   "execution_count": 161,
   "metadata": {
    "collapsed": false
   },
   "outputs": [
    {
     "data": {
      "text/plain": [
       "15"
      ]
     },
     "execution_count": 161,
     "metadata": {},
     "output_type": "execute_result"
    }
   ],
   "source": [
    "arr.size  # total number of elements"
   ]
  },
  {
   "cell_type": "code",
   "execution_count": 162,
   "metadata": {
    "collapsed": false
   },
   "outputs": [
    {
     "data": {
      "text/plain": [
       "dtype('int64')"
      ]
     },
     "execution_count": 162,
     "metadata": {},
     "output_type": "execute_result"
    }
   ],
   "source": [
    "arr.dtype  # type of the elements in the array"
   ]
  },
  {
   "cell_type": "markdown",
   "metadata": {},
   "source": [
    "## Creating arrays"
   ]
  },
  {
   "cell_type": "markdown",
   "metadata": {},
   "source": [
    "#### [***arange***](http://docs.scipy.org/doc/numpy/reference/generated/numpy.arange.html) - similar to Python [range](https://docs.python.org/2/library/functions.html#range) - evenly spaced elements within a specified interval"
   ]
  },
  {
   "cell_type": "code",
   "execution_count": 163,
   "metadata": {
    "collapsed": false
   },
   "outputs": [
    {
     "data": {
      "text/plain": [
       "array([0, 1, 2, 3, 4, 5, 6, 7, 8, 9])"
      ]
     },
     "execution_count": 163,
     "metadata": {},
     "output_type": "execute_result"
    }
   ],
   "source": [
    "np.arange(10)"
   ]
  },
  {
   "cell_type": "code",
   "execution_count": 164,
   "metadata": {
    "collapsed": false
   },
   "outputs": [
    {
     "data": {
      "text/plain": [
       "array([ 4,  5,  6,  7,  8,  9, 10, 11, 12, 13])"
      ]
     },
     "execution_count": 164,
     "metadata": {},
     "output_type": "execute_result"
    }
   ],
   "source": [
    "np.arange(4, 14)"
   ]
  },
  {
   "cell_type": "code",
   "execution_count": 165,
   "metadata": {
    "collapsed": false
   },
   "outputs": [
    {
     "data": {
      "text/plain": [
       "array([ 1.  ,  1.25,  1.5 ,  1.75,  2.  ,  2.25,  2.5 ,  2.75,  3.  ,\n",
       "        3.25,  3.5 ,  3.75,  4.  ,  4.25,  4.5 ,  4.75,  5.  ,  5.25,\n",
       "        5.5 ,  5.75,  6.  ,  6.25,  6.5 ,  6.75,  7.  ,  7.25,  7.5 ,\n",
       "        7.75,  8.  ,  8.25,  8.5 ,  8.75,  9.  ,  9.25,  9.5 ,  9.75])"
      ]
     },
     "execution_count": 165,
     "metadata": {},
     "output_type": "execute_result"
    }
   ],
   "source": [
    "np.arange(1, 10, 0.25)"
   ]
  },
  {
   "cell_type": "markdown",
   "metadata": {},
   "source": [
    "#### [***array***](http://docs.scipy.org/doc/numpy/reference/generated/numpy.array.html) - n-dimensional array"
   ]
  },
  {
   "cell_type": "code",
   "execution_count": 166,
   "metadata": {
    "collapsed": false
   },
   "outputs": [
    {
     "data": {
      "text/plain": [
       "array([1, 2, 3, 4, 5])"
      ]
     },
     "execution_count": 166,
     "metadata": {},
     "output_type": "execute_result"
    }
   ],
   "source": [
    "a1 = np.array([1, 2, 3, 4, 5])\n",
    "a1"
   ]
  },
  {
   "cell_type": "code",
   "execution_count": 167,
   "metadata": {
    "collapsed": false
   },
   "outputs": [],
   "source": [
    "a2 = np.array(\n",
    "    [\n",
    "        [\n",
    "            [1, 2, 3],\n",
    "            [4, 5, 6],\n",
    "            [7, 8, 9]\n",
    "        ],\n",
    "        [\n",
    "            [-1, -2, -3],\n",
    "            [-4, -5, -6],\n",
    "            [-7, -8, -9]\n",
    "        ]\n",
    "    ]\n",
    ")"
   ]
  },
  {
   "cell_type": "code",
   "execution_count": 168,
   "metadata": {
    "collapsed": false
   },
   "outputs": [
    {
     "data": {
      "text/plain": [
       "(2, 3, 3)"
      ]
     },
     "execution_count": 168,
     "metadata": {},
     "output_type": "execute_result"
    }
   ],
   "source": [
    "a2.shape"
   ]
  },
  {
   "cell_type": "code",
   "execution_count": 169,
   "metadata": {
    "collapsed": false
   },
   "outputs": [
    {
     "data": {
      "text/plain": [
       "3"
      ]
     },
     "execution_count": 169,
     "metadata": {},
     "output_type": "execute_result"
    }
   ],
   "source": [
    "a2.ndim"
   ]
  },
  {
   "cell_type": "code",
   "execution_count": 170,
   "metadata": {
    "collapsed": false
   },
   "outputs": [
    {
     "data": {
      "text/plain": [
       "array([ 1.+0.j,  2.+0.j,  3.+0.j,  4.+0.j,  5.+0.j])"
      ]
     },
     "execution_count": 170,
     "metadata": {},
     "output_type": "execute_result"
    }
   ],
   "source": [
    "a3 = np.array([1, 2, 3, 4, 5], dtype=complex)\n",
    "a3"
   ]
  },
  {
   "cell_type": "markdown",
   "metadata": {},
   "source": [
    "### *Known size, unknown content*\n",
    "The following functions allow creation of arrays with initial placeholder content. These minimize the necessity of growing arrays, an expensive operation."
   ]
  },
  {
   "cell_type": "markdown",
   "metadata": {},
   "source": [
    "#### [***zeros***](http://docs.scipy.org/doc/numpy/reference/generated/numpy.zeros.html) - an array of given shape and type, filled with zeros"
   ]
  },
  {
   "cell_type": "code",
   "execution_count": 171,
   "metadata": {
    "collapsed": false
   },
   "outputs": [
    {
     "data": {
      "text/plain": [
       "array([[ 0.,  0.,  0.,  0.],\n",
       "       [ 0.,  0.,  0.,  0.],\n",
       "       [ 0.,  0.,  0.,  0.]])"
      ]
     },
     "execution_count": 171,
     "metadata": {},
     "output_type": "execute_result"
    }
   ],
   "source": [
    "a4 = np.zeros((3, 4))\n",
    "a4"
   ]
  },
  {
   "cell_type": "code",
   "execution_count": 172,
   "metadata": {
    "collapsed": false
   },
   "outputs": [
    {
     "data": {
      "text/plain": [
       "dtype('float64')"
      ]
     },
     "execution_count": 172,
     "metadata": {},
     "output_type": "execute_result"
    }
   ],
   "source": [
    "a4.dtype"
   ]
  },
  {
   "cell_type": "markdown",
   "metadata": {},
   "source": [
    "#### [***ones***](http://docs.scipy.org/doc/numpy/reference/generated/numpy.ones.html#numpy.ones) - an array of given shape and type, filled with zeros"
   ]
  },
  {
   "cell_type": "code",
   "execution_count": 173,
   "metadata": {
    "collapsed": false
   },
   "outputs": [
    {
     "data": {
      "text/plain": [
       "array([[[ 1.,  1.,  1.,  1.],\n",
       "        [ 1.,  1.,  1.,  1.],\n",
       "        [ 1.,  1.,  1.,  1.]],\n",
       "\n",
       "       [[ 1.,  1.,  1.,  1.],\n",
       "        [ 1.,  1.,  1.,  1.],\n",
       "        [ 1.,  1.,  1.,  1.]]])"
      ]
     },
     "execution_count": 173,
     "metadata": {},
     "output_type": "execute_result"
    }
   ],
   "source": [
    "a5 = np.ones((2, 3, 4))\n",
    "a5"
   ]
  },
  {
   "cell_type": "code",
   "execution_count": 174,
   "metadata": {
    "collapsed": false
   },
   "outputs": [
    {
     "data": {
      "text/plain": [
       "dtype('float64')"
      ]
     },
     "execution_count": 174,
     "metadata": {},
     "output_type": "execute_result"
    }
   ],
   "source": [
    "a5.dtype"
   ]
  },
  {
   "cell_type": "markdown",
   "metadata": {},
   "source": [
    "#### [***empty***](http://docs.scipy.org/doc/numpy/reference/generated/numpy.empty.html#numpy.empty) - an array of given shape and type, without initializing entries"
   ]
  },
  {
   "cell_type": "code",
   "execution_count": 175,
   "metadata": {
    "collapsed": false
   },
   "outputs": [
    {
     "data": {
      "text/plain": [
       "array([[ 0.,  0.,  0.],\n",
       "       [ 0.,  0.,  0.]])"
      ]
     },
     "execution_count": 175,
     "metadata": {},
     "output_type": "execute_result"
    }
   ],
   "source": [
    "a6 = np.empty((2, 3))\n",
    "a6"
   ]
  },
  {
   "cell_type": "markdown",
   "metadata": {},
   "source": [
    "### *Other*"
   ]
  },
  {
   "cell_type": "markdown",
   "metadata": {},
   "source": [
    "#### [***fromfile***](http://docs.scipy.org/doc/numpy/reference/generated/numpy.fromfile.html) - array from data in a text or binary file"
   ]
  },
  {
   "cell_type": "code",
   "execution_count": 176,
   "metadata": {
    "collapsed": false
   },
   "outputs": [
    {
     "data": {
      "text/plain": [
       "array([ 35,  10,  35,  32,  77,  97,  99,  32,  79,  83,  32,  88,  32,\n",
       "        78, 111, 116, 105,  99, 101,  10,  35,  10,  35,  32,  84, 104,\n",
       "       105, 115,  32, 102, 105, 108, 101,  32, 105, 115,  32, 110, 111,\n",
       "       116,  32, 117, 115, 101, 100,  32,  98, 121,  32, 116, 104, 101,\n",
       "        32, 104, 111, 115, 116,  32, 110,  97, 109, 101,  32,  97, 110,\n",
       "       100,  32,  97, 100, 100, 114, 101, 115, 115,  32, 114, 101, 115,\n",
       "       111, 108, 117, 116, 105, 111, 110,  10,  35,  32, 111, 114,  32,\n",
       "       116, 104, 101,  32,  68,  78,  83,  32, 113, 117, 101, 114, 121,\n",
       "        32, 114, 111, 117, 116, 105, 110, 103,  32, 109, 101,  99, 104,\n",
       "        97, 110, 105, 115, 109, 115,  32, 117, 115, 101, 100,  32,  98,\n",
       "       121,  32, 109, 111, 115, 116,  32, 112, 114, 111,  99, 101, 115,\n",
       "       115, 101, 115,  32, 111, 110,  10,  35,  32, 116, 104, 105, 115,\n",
       "        32,  77,  97,  99,  32,  79,  83,  32,  88,  32, 115, 121, 115,\n",
       "       116, 101, 109,  46,  10,  35,  10,  35,  32,  84, 104, 105, 115,\n",
       "        32, 102, 105, 108, 101,  32, 105, 115,  32,  97, 117, 116, 111,\n",
       "       109,  97, 116, 105,  99,  97, 108, 108, 121,  32, 103, 101, 110,\n",
       "       101, 114,  97, 116, 101, 100,  46,  10,  35,  10, 100, 111, 109,\n",
       "        97, 105, 110,  32,  97, 118, 105, 110, 105, 116, 121,  46, 116,\n",
       "       118,  10, 110,  97, 109, 101, 115, 101, 114, 118, 101, 114,  32,\n",
       "        49,  55,  50,  46,  49,  54,  46,  49,  46,  49,  48,  10, 110,\n",
       "        97, 109, 101, 115, 101, 114, 118, 101, 114,  32,  49,  55,  50,\n",
       "        46,  49,  54,  46,  49,  46,  49,  51,  10], dtype=uint8)"
      ]
     },
     "execution_count": 176,
     "metadata": {},
     "output_type": "execute_result"
    }
   ],
   "source": [
    "a7 = np.fromfile('/etc/resolv.conf', dtype=np.uint8)\n",
    "a7"
   ]
  },
  {
   "cell_type": "markdown",
   "metadata": {},
   "source": [
    "#### [***fromstring***](http://docs.scipy.org/doc/numpy/reference/generated/numpy.fromstring.html) - array from raw binary or text data in a string"
   ]
  },
  {
   "cell_type": "code",
   "execution_count": 177,
   "metadata": {
    "collapsed": false
   },
   "outputs": [
    {
     "data": {
      "text/plain": [
       "array([1, 2, 3, 4, 5], dtype=uint8)"
      ]
     },
     "execution_count": 177,
     "metadata": {},
     "output_type": "execute_result"
    }
   ],
   "source": [
    "np.fromstring('\\x01\\x02\\x03\\x04\\x05', dtype=np.uint8)"
   ]
  },
  {
   "cell_type": "markdown",
   "metadata": {},
   "source": [
    "## Basic operations"
   ]
  },
  {
   "cell_type": "markdown",
   "metadata": {},
   "source": [
    "### *Arithmetic operators*\n",
    "Apply elementwise, a new array is created and filled with the result."
   ]
  },
  {
   "cell_type": "code",
   "execution_count": 178,
   "metadata": {
    "collapsed": false
   },
   "outputs": [
    {
     "data": {
      "text/plain": [
       "array([20, 30, 40, 50])"
      ]
     },
     "execution_count": 178,
     "metadata": {},
     "output_type": "execute_result"
    }
   ],
   "source": [
    "a = np.array([20, 30, 40, 50])\n",
    "a"
   ]
  },
  {
   "cell_type": "code",
   "execution_count": 179,
   "metadata": {
    "collapsed": false
   },
   "outputs": [
    {
     "data": {
      "text/plain": [
       "array([0, 1, 2, 3])"
      ]
     },
     "execution_count": 179,
     "metadata": {},
     "output_type": "execute_result"
    }
   ],
   "source": [
    "b = np.arange(4)\n",
    "b"
   ]
  },
  {
   "cell_type": "code",
   "execution_count": 180,
   "metadata": {
    "collapsed": false
   },
   "outputs": [
    {
     "data": {
      "text/plain": [
       "array([20, 31, 42, 53])"
      ]
     },
     "execution_count": 180,
     "metadata": {},
     "output_type": "execute_result"
    }
   ],
   "source": [
    "a + b"
   ]
  },
  {
   "cell_type": "code",
   "execution_count": 181,
   "metadata": {
    "collapsed": false
   },
   "outputs": [
    {
     "data": {
      "text/plain": [
       "array([20, 29, 38, 47])"
      ]
     },
     "execution_count": 181,
     "metadata": {},
     "output_type": "execute_result"
    }
   ],
   "source": [
    "a - b"
   ]
  },
  {
   "cell_type": "code",
   "execution_count": 182,
   "metadata": {
    "collapsed": false
   },
   "outputs": [
    {
     "data": {
      "text/plain": [
       "array([  0,  30,  80, 150])"
      ]
     },
     "execution_count": 182,
     "metadata": {},
     "output_type": "execute_result"
    }
   ],
   "source": [
    "a * b"
   ]
  },
  {
   "cell_type": "code",
   "execution_count": 183,
   "metadata": {
    "collapsed": false
   },
   "outputs": [
    {
     "name": "stderr",
     "output_type": "stream",
     "text": [
      "/Users/ay/virtualenvs/jupyter/lib/python2.7/site-packages/ipykernel/__main__.py:1: RuntimeWarning: divide by zero encountered in divide\n",
      "  if __name__ == '__main__':\n"
     ]
    },
    {
     "data": {
      "text/plain": [
       "array([ 0, 30, 20, 16])"
      ]
     },
     "execution_count": 183,
     "metadata": {},
     "output_type": "execute_result"
    }
   ],
   "source": [
    "a / b"
   ]
  },
  {
   "cell_type": "code",
   "execution_count": 184,
   "metadata": {
    "collapsed": false
   },
   "outputs": [
    {
     "data": {
      "text/plain": [
       "array([0, 1, 4, 9])"
      ]
     },
     "execution_count": 184,
     "metadata": {},
     "output_type": "execute_result"
    }
   ],
   "source": [
    "b ** 2"
   ]
  },
  {
   "cell_type": "code",
   "execution_count": 185,
   "metadata": {
    "collapsed": false
   },
   "outputs": [
    {
     "data": {
      "text/plain": [
       "array([ 9.12945251, -9.88031624,  7.4511316 , -2.62374854])"
      ]
     },
     "execution_count": 185,
     "metadata": {},
     "output_type": "execute_result"
    }
   ],
   "source": [
    "10 * np.sin(a)"
   ]
  },
  {
   "cell_type": "code",
   "execution_count": 186,
   "metadata": {
    "collapsed": false
   },
   "outputs": [
    {
     "data": {
      "text/plain": [
       "array([10, 11, 12, 13])"
      ]
     },
     "execution_count": 186,
     "metadata": {},
     "output_type": "execute_result"
    }
   ],
   "source": [
    "b += 10  # b is changed in place\n",
    "b"
   ]
  },
  {
   "cell_type": "markdown",
   "metadata": {},
   "source": [
    "### *Unary operations*"
   ]
  },
  {
   "cell_type": "code",
   "execution_count": 187,
   "metadata": {
    "collapsed": false
   },
   "outputs": [
    {
     "data": {
      "text/plain": [
       "array([[ 0,  1,  2,  3],\n",
       "       [ 4,  5,  6,  7],\n",
       "       [ 8,  9, 10, 11]])"
      ]
     },
     "execution_count": 187,
     "metadata": {},
     "output_type": "execute_result"
    }
   ],
   "source": [
    "c = np.arange(12).reshape(3, 4)\n",
    "c"
   ]
  },
  {
   "cell_type": "code",
   "execution_count": 188,
   "metadata": {
    "collapsed": false
   },
   "outputs": [
    {
     "data": {
      "text/plain": [
       "66"
      ]
     },
     "execution_count": 188,
     "metadata": {},
     "output_type": "execute_result"
    }
   ],
   "source": [
    "c.sum()"
   ]
  },
  {
   "cell_type": "code",
   "execution_count": 189,
   "metadata": {
    "collapsed": false
   },
   "outputs": [
    {
     "data": {
      "text/plain": [
       "array([12, 15, 18, 21])"
      ]
     },
     "execution_count": 189,
     "metadata": {},
     "output_type": "execute_result"
    }
   ],
   "source": [
    "c.sum(axis=0)"
   ]
  },
  {
   "cell_type": "code",
   "execution_count": 190,
   "metadata": {
    "collapsed": false
   },
   "outputs": [
    {
     "data": {
      "text/plain": [
       "array([ 6, 22, 38])"
      ]
     },
     "execution_count": 190,
     "metadata": {},
     "output_type": "execute_result"
    }
   ],
   "source": [
    "c.sum(axis=1)"
   ]
  },
  {
   "cell_type": "code",
   "execution_count": 191,
   "metadata": {
    "collapsed": false
   },
   "outputs": [
    {
     "data": {
      "text/plain": [
       "0"
      ]
     },
     "execution_count": 191,
     "metadata": {},
     "output_type": "execute_result"
    }
   ],
   "source": [
    "c.min()"
   ]
  },
  {
   "cell_type": "code",
   "execution_count": 192,
   "metadata": {
    "collapsed": false
   },
   "outputs": [
    {
     "data": {
      "text/plain": [
       "11"
      ]
     },
     "execution_count": 192,
     "metadata": {},
     "output_type": "execute_result"
    }
   ],
   "source": [
    "c.max()"
   ]
  },
  {
   "cell_type": "markdown",
   "metadata": {},
   "source": [
    "### *Universal functions*"
   ]
  },
  {
   "cell_type": "markdown",
   "metadata": {},
   "source": [
    "NumPy provides familiar mathematical functions such as *sin*, *cos*, *exp* etc. In NumPy, these are called \"universal functions\" (ufunc). Within NumPy, these functions operate elementwise on an array, producing an array as output. "
   ]
  },
  {
   "cell_type": "code",
   "execution_count": 193,
   "metadata": {
    "collapsed": false
   },
   "outputs": [
    {
     "data": {
      "text/plain": [
       "array([0, 1, 2, 3, 4])"
      ]
     },
     "execution_count": 193,
     "metadata": {},
     "output_type": "execute_result"
    }
   ],
   "source": [
    "d = np.arange(5)\n",
    "d"
   ]
  },
  {
   "cell_type": "code",
   "execution_count": 194,
   "metadata": {
    "collapsed": false
   },
   "outputs": [
    {
     "data": {
      "text/plain": [
       "array([ 0.        ,  1.        ,  1.41421356,  1.73205081,  2.        ])"
      ]
     },
     "execution_count": 194,
     "metadata": {},
     "output_type": "execute_result"
    }
   ],
   "source": [
    "np.sqrt(d)"
   ]
  },
  {
   "cell_type": "code",
   "execution_count": 195,
   "metadata": {
    "collapsed": false
   },
   "outputs": [
    {
     "data": {
      "text/plain": [
       "array([  1.        ,   2.71828183,   7.3890561 ,  20.08553692,  54.59815003])"
      ]
     },
     "execution_count": 195,
     "metadata": {},
     "output_type": "execute_result"
    }
   ],
   "source": [
    "np.exp(d)"
   ]
  },
  {
   "cell_type": "markdown",
   "metadata": {},
   "source": [
    "### *Indexing, slicing, iterating*"
   ]
  },
  {
   "cell_type": "markdown",
   "metadata": {},
   "source": [
    "One-dimensional arrays can be indexed, sliced and iterated over, much like lists and other Python sequences."
   ]
  },
  {
   "cell_type": "markdown",
   "metadata": {},
   "source": [
    "Multidimensional arrays can have one index per axis. These indices are given in a tuple separated by commas."
   ]
  },
  {
   "cell_type": "code",
   "execution_count": 196,
   "metadata": {
    "collapsed": true
   },
   "outputs": [],
   "source": [
    "def f(x, y):\n",
    "    return 10 * x + y"
   ]
  },
  {
   "cell_type": "code",
   "execution_count": 197,
   "metadata": {
    "collapsed": false
   },
   "outputs": [
    {
     "data": {
      "text/plain": [
       "array([[ 0,  1,  2,  3],\n",
       "       [10, 11, 12, 13],\n",
       "       [20, 21, 22, 23],\n",
       "       [30, 31, 32, 33],\n",
       "       [40, 41, 42, 43]])"
      ]
     },
     "execution_count": 197,
     "metadata": {},
     "output_type": "execute_result"
    }
   ],
   "source": [
    "b = np.fromfunction(f, (5, 4), dtype=int)\n",
    "b"
   ]
  },
  {
   "cell_type": "code",
   "execution_count": 198,
   "metadata": {
    "collapsed": false
   },
   "outputs": [
    {
     "data": {
      "text/plain": [
       "23"
      ]
     },
     "execution_count": 198,
     "metadata": {},
     "output_type": "execute_result"
    }
   ],
   "source": [
    "b[2, 3]"
   ]
  },
  {
   "cell_type": "code",
   "execution_count": 199,
   "metadata": {
    "collapsed": false
   },
   "outputs": [
    {
     "data": {
      "text/plain": [
       "array([ 1, 11, 21, 31, 41])"
      ]
     },
     "execution_count": 199,
     "metadata": {},
     "output_type": "execute_result"
    }
   ],
   "source": [
    "b[0:5, 1]  # each row in the second column"
   ]
  },
  {
   "cell_type": "code",
   "execution_count": 200,
   "metadata": {
    "collapsed": false
   },
   "outputs": [
    {
     "data": {
      "text/plain": [
       "array([ 1, 11, 21, 31, 41])"
      ]
     },
     "execution_count": 200,
     "metadata": {},
     "output_type": "execute_result"
    }
   ],
   "source": [
    "b[:, 1]  # equivalent to the previous example"
   ]
  },
  {
   "cell_type": "code",
   "execution_count": 201,
   "metadata": {
    "collapsed": false
   },
   "outputs": [
    {
     "data": {
      "text/plain": [
       "array([[10, 11, 12, 13],\n",
       "       [20, 21, 22, 23]])"
      ]
     },
     "execution_count": 201,
     "metadata": {},
     "output_type": "execute_result"
    }
   ],
   "source": [
    "b[1:3, :]  # each column in the second and third rows"
   ]
  },
  {
   "cell_type": "markdown",
   "metadata": {},
   "source": [
    "Iterating over multidimensional arrays is done with respect to the first axis."
   ]
  },
  {
   "cell_type": "code",
   "execution_count": 202,
   "metadata": {
    "collapsed": false
   },
   "outputs": [
    {
     "name": "stdout",
     "output_type": "stream",
     "text": [
      "[0 1 2 3]\n",
      "[10 11 12 13]\n",
      "[20 21 22 23]\n",
      "[30 31 32 33]\n",
      "[40 41 42 43]\n"
     ]
    }
   ],
   "source": [
    "for row in b:\n",
    "    print row"
   ]
  },
  {
   "cell_type": "code",
   "execution_count": 203,
   "metadata": {
    "collapsed": false
   },
   "outputs": [
    {
     "name": "stdout",
     "output_type": "stream",
     "text": [
      "0 1 2 3 10 11 12 13 20 21 22 23 30 31 32 33 40 41 42 43\n"
     ]
    }
   ],
   "source": [
    "for element in b.flat:\n",
    "    print element,  # comma trick :)"
   ]
  },
  {
   "cell_type": "markdown",
   "metadata": {},
   "source": [
    "## Shape manipulation"
   ]
  },
  {
   "cell_type": "code",
   "execution_count": 204,
   "metadata": {
    "collapsed": false
   },
   "outputs": [
    {
     "data": {
      "text/plain": [
       "array([[7, 2, 5, 1],\n",
       "       [2, 2, 1, 5],\n",
       "       [2, 7, 8, 7]])"
      ]
     },
     "execution_count": 204,
     "metadata": {},
     "output_type": "execute_result"
    }
   ],
   "source": [
    "a = np.random.randint(1, 10, (3, 4))\n",
    "a"
   ]
  },
  {
   "cell_type": "code",
   "execution_count": 205,
   "metadata": {
    "collapsed": false
   },
   "outputs": [
    {
     "data": {
      "text/plain": [
       "(3, 4)"
      ]
     },
     "execution_count": 205,
     "metadata": {},
     "output_type": "execute_result"
    }
   ],
   "source": [
    "a.shape"
   ]
  },
  {
   "cell_type": "code",
   "execution_count": 206,
   "metadata": {
    "collapsed": false
   },
   "outputs": [
    {
     "name": "stdout",
     "output_type": "stream",
     "text": [
      "[[7 2 5 1]\n",
      " [2 2 1 5]\n",
      " [2 7 8 7]]\n",
      "\n",
      "[7 2 5 1 2 2 1 5 2 7 8 7]\n"
     ]
    }
   ],
   "source": [
    "a1 = a.flatten()  # flatten\n",
    "print(a)\n",
    "print\n",
    "print(a1)"
   ]
  },
  {
   "cell_type": "code",
   "execution_count": 207,
   "metadata": {
    "collapsed": false
   },
   "outputs": [
    {
     "data": {
      "text/plain": [
       "array([[7, 2],\n",
       "       [5, 1],\n",
       "       [2, 2],\n",
       "       [1, 5],\n",
       "       [2, 7],\n",
       "       [8, 7]])"
      ]
     },
     "execution_count": 207,
     "metadata": {},
     "output_type": "execute_result"
    }
   ],
   "source": [
    "a.shape = (6, 2)  # change shape (in-place)\n",
    "a"
   ]
  },
  {
   "cell_type": "code",
   "execution_count": 208,
   "metadata": {
    "collapsed": false
   },
   "outputs": [
    {
     "name": "stdout",
     "output_type": "stream",
     "text": [
      "[[7 2]\n",
      " [5 1]\n",
      " [2 2]\n",
      " [1 5]\n",
      " [2 7]\n",
      " [8 7]]\n",
      "\n",
      "[7 2 5 1 2 2 1 5 2 7 8 7]\n"
     ]
    }
   ],
   "source": [
    "a2 = a.transpose()  # rows -> columns, columns -> rows (creates a new array)\n",
    "print(a)\n",
    "print\n",
    "print(a1)"
   ]
  },
  {
   "cell_type": "code",
   "execution_count": 209,
   "metadata": {
    "collapsed": false
   },
   "outputs": [],
   "source": [
    "# a.resize(2, 3)  # change shape and size (in-place)"
   ]
  },
  {
   "cell_type": "code",
   "execution_count": 210,
   "metadata": {
    "collapsed": false
   },
   "outputs": [
    {
     "name": "stdout",
     "output_type": "stream",
     "text": [
      "[[7 5 6 5]\n",
      " [7 9 1 2]\n",
      " [9 4 5 3]]\n",
      "[[7 5 6]\n",
      " [5 7 9]]\n"
     ]
    }
   ],
   "source": [
    "a3 = np.random.randint(1, 10, (3, 4))\n",
    "print(a3)\n",
    "a3.resize((2, 3))  # change shape and size (in-place)\n",
    "print(a3)"
   ]
  },
  {
   "cell_type": "code",
   "execution_count": 211,
   "metadata": {
    "collapsed": false
   },
   "outputs": [
    {
     "name": "stdout",
     "output_type": "stream",
     "text": [
      "[[7 2]\n",
      " [5 1]\n",
      " [2 2]\n",
      " [1 5]\n",
      " [2 7]\n",
      " [8 7]]\n",
      "\n",
      "[[7 2 5]\n",
      " [1 2 2]\n",
      " [1 5 2]\n",
      " [7 8 7]]\n"
     ]
    }
   ],
   "source": [
    "a3 = a.reshape(4, 3)\n",
    "print(a)\n",
    "print\n",
    "print(a3)"
   ]
  },
  {
   "cell_type": "code",
   "execution_count": 212,
   "metadata": {
    "collapsed": false
   },
   "outputs": [
    {
     "data": {
      "text/plain": [
       "array([[[7, 2, 5],\n",
       "        [1, 2, 2]],\n",
       "\n",
       "       [[1, 5, 2],\n",
       "        [7, 8, 7]]])"
      ]
     },
     "execution_count": 212,
     "metadata": {},
     "output_type": "execute_result"
    }
   ],
   "source": [
    "a.reshape(2, 2, -1)  # -1 - unknown dimension, calculated automatically"
   ]
  },
  {
   "cell_type": "markdown",
   "metadata": {},
   "source": [
    "###### *For more NumPy fun have a look at the [Tentative NumPy Tutorial](https://github.com/Atlas7/scipy-tentative-numpy-tutorials)*"
   ]
  },
  {
   "cell_type": "markdown",
   "metadata": {},
   "source": [
    "# Matplotlib"
   ]
  },
  {
   "cell_type": "markdown",
   "metadata": {},
   "source": [
    "## Installation"
   ]
  },
  {
   "cell_type": "markdown",
   "metadata": {},
   "source": [
    "```\n",
    "$ pip install matplotlib\n",
    "```"
   ]
  },
  {
   "cell_type": "code",
   "execution_count": 213,
   "metadata": {
    "collapsed": false
   },
   "outputs": [],
   "source": [
    "%matplotlib inline"
   ]
  },
  {
   "cell_type": "code",
   "execution_count": 214,
   "metadata": {
    "collapsed": true
   },
   "outputs": [],
   "source": [
    "import matplotlib.pyplot as plt\n",
    "plt.rcParams[\"figure.figsize\"] = (10, 6)"
   ]
  },
  {
   "cell_type": "code",
   "execution_count": 215,
   "metadata": {
    "collapsed": false
   },
   "outputs": [
    {
     "data": {
      "text/plain": [
       "array([  0.00000000e+00,   1.00000000e-04,   2.00000000e-04, ...,\n",
       "         4.99970000e+00,   4.99980000e+00,   4.99990000e+00])"
      ]
     },
     "execution_count": 215,
     "metadata": {},
     "output_type": "execute_result"
    }
   ],
   "source": [
    "x = np.arange(0, 5, 0.0001)\n",
    "x"
   ]
  },
  {
   "cell_type": "code",
   "execution_count": 216,
   "metadata": {
    "collapsed": false
   },
   "outputs": [
    {
     "data": {
      "text/plain": [
       "array([ 0.        ,  0.00062832,  0.00125664, ..., -0.00188495,\n",
       "       -0.00125664, -0.00062832])"
      ]
     },
     "execution_count": 216,
     "metadata": {},
     "output_type": "execute_result"
    }
   ],
   "source": [
    "y = np.sin(2 * np.pi * x)\n",
    "y"
   ]
  },
  {
   "cell_type": "code",
   "execution_count": 217,
   "metadata": {
    "collapsed": false
   },
   "outputs": [
    {
     "data": {
      "text/plain": [
       "[<matplotlib.lines.Line2D at 0x116afdd10>]"
      ]
     },
     "execution_count": 217,
     "metadata": {},
     "output_type": "execute_result"
    },
    {
     "data": {
      "image/png": "[encoded data removed]",
      "text/plain": [
       "<matplotlib.figure.Figure at 0x11699bc50>"
      ]
     },
     "metadata": {},
     "output_type": "display_data"
    }
   ],
   "source": [
    "plt.plot(y)"
   ]
  },
  {
   "cell_type": "code",
   "execution_count": 218,
   "metadata": {
    "collapsed": false
   },
   "outputs": [
    {
     "data": {
      "image/png": "[encoded data removed]",
      "text/plain": [
       "<matplotlib.figure.Figure at 0x116a98a10>"
      ]
     },
     "metadata": {},
     "output_type": "display_data"
    }
   ],
   "source": [
    "import matplotlib.image as mpimg\n",
    "image = mpimg.imread('/tmp/uma.png')  # https://goo.gl/3OfCVv\n",
    "plt.title('Cat', fontsize=28)\n",
    "plt.xlabel('horizontal resolution')\n",
    "plt.ylabel('vertiacal resolution')\n",
    "plt.imshow(image)\n",
    "plt.show()"
   ]
  },
  {
   "cell_type": "markdown",
   "metadata": {},
   "source": [
    "# NumPy practical examples"
   ]
  },
  {
   "cell_type": "markdown",
   "metadata": {},
   "source": [
    "## Sinewave generation\n",
    "https://en.wikipedia.org/wiki/Sine_wave"
   ]
  },
  {
   "cell_type": "code",
   "execution_count": 219,
   "metadata": {
    "collapsed": false
   },
   "outputs": [
    {
     "name": "stdout",
     "output_type": "stream",
     "text": [
      "START\n",
      "[  0.00000000e+00   2.26758398e-05   4.53516796e-05   6.80275194e-05\n",
      "   9.07033592e-05   1.13379199e-04   1.36055039e-04   1.58730879e-04\n",
      "   1.81406718e-04   2.04082558e-04   2.26758398e-04   2.49434238e-04\n",
      "   2.72110078e-04   2.94785917e-04   3.17461757e-04   3.40137597e-04\n",
      "   3.62813437e-04   3.85489277e-04   4.08165116e-04   4.30840956e-04\n",
      "   4.53516796e-04   4.76192636e-04   4.98868476e-04   5.21544315e-04\n",
      "   5.44220155e-04   5.66895995e-04   5.89571835e-04   6.12247675e-04\n",
      "   6.34923514e-04   6.57599354e-04   6.80275194e-04   7.02951034e-04\n",
      "   7.25626874e-04   7.48302713e-04   7.70978553e-04   7.93654393e-04\n",
      "   8.16330233e-04   8.39006073e-04   8.61681912e-04   8.84357752e-04\n",
      "   9.07033592e-04   9.29709432e-04   9.52385272e-04   9.75061111e-04\n",
      "   9.97736951e-04   1.02041279e-03   1.04308863e-03   1.06576447e-03\n",
      "   1.08844031e-03   1.11111615e-03]\n",
      "END\n",
      "[ 4.99888888  4.99891156  4.99893424  4.99895691  4.99897959  4.99900226\n",
      "  4.99902494  4.99904761  4.99907029  4.99909297  4.99911564  4.99913832\n",
      "  4.99916099  4.99918367  4.99920635  4.99922902  4.9992517   4.99927437\n",
      "  4.99929705  4.99931972  4.9993424   4.99936508  4.99938775  4.99941043\n",
      "  4.9994331   4.99945578  4.99947846  4.99950113  4.99952381  4.99954648\n",
      "  4.99956916  4.99959183  4.99961451  4.99963719  4.99965986  4.99968254\n",
      "  4.99970521  4.99972789  4.99975057  4.99977324  4.99979592  4.99981859\n",
      "  4.99984127  4.99986394  4.99988662  4.9999093   4.99993197  4.99995465\n",
      "  4.99997732  5.        ]\n"
     ]
    }
   ],
   "source": [
    "duration = 5  # seconds\n",
    "samplerate = 44100  # samples per second, Hertz\n",
    "\n",
    "# Similar to arange, but uses number of samples instead of a step size\n",
    "samples_distribution = np.linspace(0, duration, duration * samplerate)\n",
    "\n",
    "print('START\\n{0}'.format(samples_distribution[:50]))\n",
    "print('END\\n{0}'.format(samples_distribution[-50:]))"
   ]
  },
  {
   "cell_type": "code",
   "execution_count": 220,
   "metadata": {
    "collapsed": false
   },
   "outputs": [
    {
     "data": {
      "text/plain": [
       "array([ 0.        ,  0.47067975,  0.78792578,  0.86345465,  0.70878505,\n",
       "        0.42357751,  0.14409385, -0.02277001, -0.04783108,  0.01271156,\n",
       "        0.05319649, -0.02054012, -0.23601542, -0.53275924, -0.78616039,\n",
       "       -0.86560018, -0.69890851, -0.31167588,  0.17822793,  0.60913701,\n",
       "        0.8446032 ,  0.83058089,  0.61412139,  0.31543734,  0.06755869,\n",
       "       -0.04683401, -0.0308684 ,  0.03541828,  0.04308095, -0.08311469,\n",
       "       -0.33912244, -0.63638617, -0.84039769, -0.83485471, -0.58037212,\n",
       "       -0.13892108,  0.34855406,  0.72142812,  0.86792055,  0.77072905,\n",
       "        0.50867254,  0.2143945 ,  0.00919634, -0.05322134, -0.00709012,\n",
       "        0.05018449,  0.01481101, -0.16337277, -0.4480445 , -0.72774396])"
      ]
     },
     "execution_count": 220,
     "metadata": {},
     "output_type": "execute_result"
    }
   ],
   "source": [
    "frequencies_config = [(5000, 0.4), (2500, 0.6)]  # (frequency, amplitude)\n",
    "sinewave_data = np.zeros(samples_distribution.size)\n",
    "for freq, amp in frequencies_config:\n",
    "    sinewave_data += (np.sin(2 * np.pi * freq * samples_distribution) * amp)\n",
    "sinewave_data[:50]"
   ]
  },
  {
   "cell_type": "code",
   "execution_count": 221,
   "metadata": {
    "collapsed": false,
    "scrolled": true
   },
   "outputs": [
    {
     "data": {
      "text/plain": [
       "[<matplotlib.lines.Line2D at 0x116b54150>]"
      ]
     },
     "execution_count": 221,
     "metadata": {},
     "output_type": "execute_result"
    },
    {
     "data": {
      "image/png": "[encoded data removed]",
      "text/plain": [
       "<matplotlib.figure.Figure at 0x11742c690>"
      ]
     },
     "metadata": {},
     "output_type": "display_data"
    }
   ],
   "source": [
    "plt.plot(sinewave_data[:250])"
   ]
  },
  {
   "cell_type": "code",
   "execution_count": 222,
   "metadata": {
    "collapsed": false
   },
   "outputs": [],
   "source": [
    "with open('/Users/ay/tmp/raw_samples', 'wb') as f:\n",
    "    f.write(sinewave_data.tostring())"
   ]
  },
  {
   "cell_type": "markdown",
   "metadata": {},
   "source": [
    "## Frequency analysis\n",
    "https://en.wikipedia.org/wiki/Fast_Fourier_transform"
   ]
  },
  {
   "cell_type": "code",
   "execution_count": 223,
   "metadata": {
    "collapsed": true
   },
   "outputs": [],
   "source": [
    "fft = np.abs(\n",
    "    np.fft.rfft(sinewave_data * np.blackman(sinewave_data.size)) / sinewave_data.size\n",
    ")"
   ]
  },
  {
   "cell_type": "code",
   "execution_count": 224,
   "metadata": {
    "collapsed": false
   },
   "outputs": [
    {
     "data": {
      "text/plain": [
       "<matplotlib.text.Text at 0x11742c710>"
      ]
     },
     "execution_count": 224,
     "metadata": {},
     "output_type": "execute_result"
    },
    {
     "data": {
      "image/png": "[encoded data removed]",
      "text/plain": [
       "<matplotlib.figure.Figure at 0x118818c50>"
      ]
     },
     "metadata": {},
     "output_type": "display_data"
    }
   ],
   "source": [
    "frequencies = np.arange(fft.size) / 2.0 * samplerate / fft.size\n",
    "energies = np.log10(fft) * 20\n",
    "\n",
    "plt.plot(frequencies, energies)\n",
    "plt.xlabel('Hertz (Hz)')\n",
    "plt.ylabel('Decibels (dB)')"
   ]
  },
  {
   "cell_type": "markdown",
   "metadata": {},
   "source": [
    "## Generating video in raw RGB format\n",
    "https://en.wikipedia.org/wiki/RGB_color_model"
   ]
  },
  {
   "cell_type": "markdown",
   "metadata": {},
   "source": [
    "In NumPy raw video is a 4-dimensional array of shape `(num_frames, frame_height, frame_width, num_colors)`\n",
    "\n",
    "`frame_height, frame_width` - frame width and height in pixels\n",
    "\n",
    "`num_colors` - number of colors that represent a pixel (always 3 in RGB)"
   ]
  },
  {
   "cell_type": "code",
   "execution_count": 225,
   "metadata": {
    "collapsed": false
   },
   "outputs": [
    {
     "data": {
      "text/plain": [
       "array([[[[255,   0,   0],\n",
       "         [255,   0,   0],\n",
       "         [255,   0,   0],\n",
       "         ..., \n",
       "         [  0, 255,   0],\n",
       "         [  0, 255,   0],\n",
       "         [  0, 255,   0]],\n",
       "\n",
       "        [[255,   0,   0],\n",
       "         [255,   0,   0],\n",
       "         [255,   0,   0],\n",
       "         ..., \n",
       "         [  0, 255,   0],\n",
       "         [  0, 255,   0],\n",
       "         [  0, 255,   0]],\n",
       "\n",
       "        [[255,   0,   0],\n",
       "         [255,   0,   0],\n",
       "         [255,   0,   0],\n",
       "         ..., \n",
       "         [  0, 255,   0],\n",
       "         [  0, 255,   0],\n",
       "         [  0, 255,   0]],\n",
       "\n",
       "        ..., \n",
       "        [[  0,   0, 255],\n",
       "         [  0,   0, 255],\n",
       "         [  0,   0, 255],\n",
       "         ..., \n",
       "         [255,   0, 255],\n",
       "         [255,   0, 255],\n",
       "         [255,   0, 255]],\n",
       "\n",
       "        [[  0,   0, 255],\n",
       "         [  0,   0, 255],\n",
       "         [  0,   0, 255],\n",
       "         ..., \n",
       "         [255,   0, 255],\n",
       "         [255,   0, 255],\n",
       "         [255,   0, 255]],\n",
       "\n",
       "        [[  0,   0, 255],\n",
       "         [  0,   0, 255],\n",
       "         [  0,   0, 255],\n",
       "         ..., \n",
       "         [255,   0, 255],\n",
       "         [255,   0, 255],\n",
       "         [255,   0, 255]]],\n",
       "\n",
       "\n",
       "       [[[255,   0,   0],\n",
       "         [255,   0,   0],\n",
       "         [255,   0,   0],\n",
       "         ..., \n",
       "         [  0, 255,   0],\n",
       "         [  0, 255,   0],\n",
       "         [  0, 255,   0]],\n",
       "\n",
       "        [[255,   0,   0],\n",
       "         [255,   0,   0],\n",
       "         [255,   0,   0],\n",
       "         ..., \n",
       "         [  0, 255,   0],\n",
       "         [  0, 255,   0],\n",
       "         [  0, 255,   0]],\n",
       "\n",
       "        [[255,   0,   0],\n",
       "         [255,   0,   0],\n",
       "         [255,   0,   0],\n",
       "         ..., \n",
       "         [  0, 255,   0],\n",
       "         [  0, 255,   0],\n",
       "         [  0, 255,   0]],\n",
       "\n",
       "        ..., \n",
       "        [[  0,   0, 255],\n",
       "         [  0,   0, 255],\n",
       "         [  0,   0, 255],\n",
       "         ..., \n",
       "         [255,   0, 255],\n",
       "         [255,   0, 255],\n",
       "         [255,   0, 255]],\n",
       "\n",
       "        [[  0,   0, 255],\n",
       "         [  0,   0, 255],\n",
       "         [  0,   0, 255],\n",
       "         ..., \n",
       "         [255,   0, 255],\n",
       "         [255,   0, 255],\n",
       "         [255,   0, 255]],\n",
       "\n",
       "        [[  0,   0, 255],\n",
       "         [  0,   0, 255],\n",
       "         [  0,   0, 255],\n",
       "         ..., \n",
       "         [255,   0, 255],\n",
       "         [255,   0, 255],\n",
       "         [255,   0, 255]]],\n",
       "\n",
       "\n",
       "       [[[255,   0,   0],\n",
       "         [255,   0,   0],\n",
       "         [255,   0,   0],\n",
       "         ..., \n",
       "         [  0, 255,   0],\n",
       "         [  0, 255,   0],\n",
       "         [  0, 255,   0]],\n",
       "\n",
       "        [[255,   0,   0],\n",
       "         [255,   0,   0],\n",
       "         [255,   0,   0],\n",
       "         ..., \n",
       "         [  0, 255,   0],\n",
       "         [  0, 255,   0],\n",
       "         [  0, 255,   0]],\n",
       "\n",
       "        [[255,   0,   0],\n",
       "         [255,   0,   0],\n",
       "         [255,   0,   0],\n",
       "         ..., \n",
       "         [  0, 255,   0],\n",
       "         [  0, 255,   0],\n",
       "         [  0, 255,   0]],\n",
       "\n",
       "        ..., \n",
       "        [[  0,   0, 255],\n",
       "         [  0,   0, 255],\n",
       "         [  0,   0, 255],\n",
       "         ..., \n",
       "         [255,   0, 255],\n",
       "         [255,   0, 255],\n",
       "         [255,   0, 255]],\n",
       "\n",
       "        [[  0,   0, 255],\n",
       "         [  0,   0, 255],\n",
       "         [  0,   0, 255],\n",
       "         ..., \n",
       "         [255,   0, 255],\n",
       "         [255,   0, 255],\n",
       "         [255,   0, 255]],\n",
       "\n",
       "        [[  0,   0, 255],\n",
       "         [  0,   0, 255],\n",
       "         [  0,   0, 255],\n",
       "         ..., \n",
       "         [255,   0, 255],\n",
       "         [255,   0, 255],\n",
       "         [255,   0, 255]]],\n",
       "\n",
       "\n",
       "       ..., \n",
       "       [[[255,   0,   0],\n",
       "         [255,   0,   0],\n",
       "         [255,   0,   0],\n",
       "         ..., \n",
       "         [  0, 255,   0],\n",
       "         [  0, 255,   0],\n",
       "         [  0, 255,   0]],\n",
       "\n",
       "        [[255,   0,   0],\n",
       "         [255,   0,   0],\n",
       "         [255,   0,   0],\n",
       "         ..., \n",
       "         [  0, 255,   0],\n",
       "         [  0, 255,   0],\n",
       "         [  0, 255,   0]],\n",
       "\n",
       "        [[255,   0,   0],\n",
       "         [255,   0,   0],\n",
       "         [255,   0,   0],\n",
       "         ..., \n",
       "         [  0, 255,   0],\n",
       "         [  0, 255,   0],\n",
       "         [  0, 255,   0]],\n",
       "\n",
       "        ..., \n",
       "        [[  0,   0, 255],\n",
       "         [  0,   0, 255],\n",
       "         [  0,   0, 255],\n",
       "         ..., \n",
       "         [255,   0, 255],\n",
       "         [255,   0, 255],\n",
       "         [255,   0, 255]],\n",
       "\n",
       "        [[  0,   0, 255],\n",
       "         [  0,   0, 255],\n",
       "         [  0,   0, 255],\n",
       "         ..., \n",
       "         [255,   0, 255],\n",
       "         [255,   0, 255],\n",
       "         [255,   0, 255]],\n",
       "\n",
       "        [[  0,   0, 255],\n",
       "         [  0,   0, 255],\n",
       "         [  0,   0, 255],\n",
       "         ..., \n",
       "         [255,   0, 255],\n",
       "         [255,   0, 255],\n",
       "         [255,   0, 255]]],\n",
       "\n",
       "\n",
       "       [[[255,   0,   0],\n",
       "         [255,   0,   0],\n",
       "         [255,   0,   0],\n",
       "         ..., \n",
       "         [  0, 255,   0],\n",
       "         [  0, 255,   0],\n",
       "         [  0, 255,   0]],\n",
       "\n",
       "        [[255,   0,   0],\n",
       "         [255,   0,   0],\n",
       "         [255,   0,   0],\n",
       "         ..., \n",
       "         [  0, 255,   0],\n",
       "         [  0, 255,   0],\n",
       "         [  0, 255,   0]],\n",
       "\n",
       "        [[255,   0,   0],\n",
       "         [255,   0,   0],\n",
       "         [255,   0,   0],\n",
       "         ..., \n",
       "         [  0, 255,   0],\n",
       "         [  0, 255,   0],\n",
       "         [  0, 255,   0]],\n",
       "\n",
       "        ..., \n",
       "        [[  0,   0, 255],\n",
       "         [  0,   0, 255],\n",
       "         [  0,   0, 255],\n",
       "         ..., \n",
       "         [255,   0, 255],\n",
       "         [255,   0, 255],\n",
       "         [255,   0, 255]],\n",
       "\n",
       "        [[  0,   0, 255],\n",
       "         [  0,   0, 255],\n",
       "         [  0,   0, 255],\n",
       "         ..., \n",
       "         [255,   0, 255],\n",
       "         [255,   0, 255],\n",
       "         [255,   0, 255]],\n",
       "\n",
       "        [[  0,   0, 255],\n",
       "         [  0,   0, 255],\n",
       "         [  0,   0, 255],\n",
       "         ..., \n",
       "         [255,   0, 255],\n",
       "         [255,   0, 255],\n",
       "         [255,   0, 255]]],\n",
       "\n",
       "\n",
       "       [[[255,   0,   0],\n",
       "         [255,   0,   0],\n",
       "         [255,   0,   0],\n",
       "         ..., \n",
       "         [  0, 255,   0],\n",
       "         [  0, 255,   0],\n",
       "         [  0, 255,   0]],\n",
       "\n",
       "        [[255,   0,   0],\n",
       "         [255,   0,   0],\n",
       "         [255,   0,   0],\n",
       "         ..., \n",
       "         [  0, 255,   0],\n",
       "         [  0, 255,   0],\n",
       "         [  0, 255,   0]],\n",
       "\n",
       "        [[255,   0,   0],\n",
       "         [255,   0,   0],\n",
       "         [255,   0,   0],\n",
       "         ..., \n",
       "         [  0, 255,   0],\n",
       "         [  0, 255,   0],\n",
       "         [  0, 255,   0]],\n",
       "\n",
       "        ..., \n",
       "        [[  0,   0, 255],\n",
       "         [  0,   0, 255],\n",
       "         [  0,   0, 255],\n",
       "         ..., \n",
       "         [255,   0, 255],\n",
       "         [255,   0, 255],\n",
       "         [255,   0, 255]],\n",
       "\n",
       "        [[  0,   0, 255],\n",
       "         [  0,   0, 255],\n",
       "         [  0,   0, 255],\n",
       "         ..., \n",
       "         [255,   0, 255],\n",
       "         [255,   0, 255],\n",
       "         [255,   0, 255]],\n",
       "\n",
       "        [[  0,   0, 255],\n",
       "         [  0,   0, 255],\n",
       "         [  0,   0, 255],\n",
       "         ..., \n",
       "         [255,   0, 255],\n",
       "         [255,   0, 255],\n",
       "         [255,   0, 255]]]], dtype=uint8)"
      ]
     },
     "execution_count": 225,
     "metadata": {},
     "output_type": "execute_result"
    }
   ],
   "source": [
    "red = (255, 0, 0)\n",
    "green = (0, 255, 0)\n",
    "blue = (0, 0, 255)\n",
    "magenta = (255, 0, 255)\n",
    "\n",
    "framerate = 25  # frames per second\n",
    "duration = 5  # seconds\n",
    "width = 640  # pixels\n",
    "height = 480  # pixels\n",
    "\n",
    "raw_video = np.zeros((framerate * duration, height, width, 3), dtype=np.uint8)\n",
    "\n",
    "for frame in raw_video:\n",
    "    frame[0:height / 2, 0:width / 2] = red\n",
    "    frame[0:height / 2, width / 2:width] = green\n",
    "    frame[height / 2:height, 0:width / 2] = blue\n",
    "    frame[height / 2:height, width / 2:width] = magenta\n",
    "\n",
    "raw_video"
   ]
  },
  {
   "cell_type": "code",
   "execution_count": 226,
   "metadata": {
    "collapsed": false
   },
   "outputs": [
    {
     "data": {
      "text/plain": [
       "4"
      ]
     },
     "execution_count": 226,
     "metadata": {},
     "output_type": "execute_result"
    }
   ],
   "source": [
    "raw_video.ndim"
   ]
  },
  {
   "cell_type": "code",
   "execution_count": 227,
   "metadata": {
    "collapsed": false
   },
   "outputs": [
    {
     "data": {
      "text/plain": [
       "(125, 480, 640, 3)"
      ]
     },
     "execution_count": 227,
     "metadata": {},
     "output_type": "execute_result"
    }
   ],
   "source": [
    "raw_video.shape"
   ]
  },
  {
   "cell_type": "code",
   "execution_count": 228,
   "metadata": {
    "collapsed": false
   },
   "outputs": [
    {
     "data": {
      "text/plain": [
       "115200000"
      ]
     },
     "execution_count": 228,
     "metadata": {},
     "output_type": "execute_result"
    }
   ],
   "source": [
    "raw_video.size"
   ]
  },
  {
   "cell_type": "code",
   "execution_count": 229,
   "metadata": {
    "collapsed": false
   },
   "outputs": [
    {
     "data": {
      "text/plain": [
       "dtype('uint8')"
      ]
     },
     "execution_count": 229,
     "metadata": {},
     "output_type": "execute_result"
    }
   ],
   "source": [
    "raw_video.dtype"
   ]
  },
  {
   "cell_type": "code",
   "execution_count": 230,
   "metadata": {
    "collapsed": false
   },
   "outputs": [
    {
     "data": {
      "text/plain": [
       "<matplotlib.image.AxesImage at 0x11766b7d0>"
      ]
     },
     "execution_count": 230,
     "metadata": {},
     "output_type": "execute_result"
    },
    {
     "data": {
      "image/png": "[encoded data removed]",
      "text/plain": [
       "<matplotlib.figure.Figure at 0x1175dcf10>"
      ]
     },
     "metadata": {},
     "output_type": "display_data"
    }
   ],
   "source": [
    "plt.imshow(raw_video[0])"
   ]
  },
  {
   "cell_type": "markdown",
   "metadata": {},
   "source": [
    "### Checking for audio silence"
   ]
  },
  {
   "cell_type": "code",
   "execution_count": 231,
   "metadata": {
    "collapsed": false
   },
   "outputs": [
    {
     "data": {
      "text/plain": [
       "array([ 0.,  0.,  0.,  0.,  0.,  0.,  0.,  0.,  0.,  0.,  0.,  0.,  0.,\n",
       "        0.,  0.,  0.,  0.,  0.,  0.,  0.,  0.,  0.,  0.,  0.,  0.,  0.,\n",
       "        0.,  0.,  0.,  0.,  0.,  0.,  0.,  0.,  0.,  0.,  0.,  0.,  0.,\n",
       "        0.,  0.,  0.,  0.,  0.,  0.,  0.,  0.,  0.,  0.,  0.])"
      ]
     },
     "execution_count": 231,
     "metadata": {},
     "output_type": "execute_result"
    }
   ],
   "source": [
    "sinewave = np.zeros(50)\n",
    "sinewave"
   ]
  },
  {
   "cell_type": "code",
   "execution_count": 232,
   "metadata": {
    "collapsed": false
   },
   "outputs": [
    {
     "data": {
      "text/plain": [
       "array([ True,  True,  True,  True,  True,  True,  True,  True,  True,\n",
       "        True,  True,  True,  True,  True,  True,  True,  True,  True,\n",
       "        True,  True,  True,  True,  True,  True,  True,  True,  True,\n",
       "        True,  True,  True,  True,  True,  True,  True,  True,  True,\n",
       "        True,  True,  True,  True,  True,  True,  True,  True,  True,\n",
       "        True,  True,  True,  True,  True], dtype=bool)"
      ]
     },
     "execution_count": 232,
     "metadata": {},
     "output_type": "execute_result"
    }
   ],
   "source": [
    "sinewave == 0"
   ]
  },
  {
   "cell_type": "code",
   "execution_count": 233,
   "metadata": {
    "collapsed": false
   },
   "outputs": [
    {
     "data": {
      "text/plain": [
       "True"
      ]
     },
     "execution_count": 233,
     "metadata": {},
     "output_type": "execute_result"
    }
   ],
   "source": [
    "np.all(sinewave == 0)"
   ]
  },
  {
   "cell_type": "markdown",
   "metadata": {},
   "source": [
    "### Checking for frame(s) color"
   ]
  },
  {
   "cell_type": "code",
   "execution_count": 234,
   "metadata": {
    "collapsed": false
   },
   "outputs": [],
   "source": [
    "red_pixel = (255, 0, 0)\n",
    "video_frame = np.full((12, 16, 3), red_pixel, dtype=np.uint8)\n",
    "# video_frame"
   ]
  },
  {
   "cell_type": "code",
   "execution_count": 235,
   "metadata": {
    "collapsed": false
   },
   "outputs": [
    {
     "data": {
      "text/plain": [
       "<matplotlib.image.AxesImage at 0x120c6cbd0>"
      ]
     },
     "execution_count": 235,
     "metadata": {},
     "output_type": "execute_result"
    },
    {
     "data": {
      "image/png": "[encoded data removed]",
      "text/plain": [
       "<matplotlib.figure.Figure at 0x1175dc810>"
      ]
     },
     "metadata": {},
     "output_type": "display_data"
    }
   ],
   "source": [
    "plt.imshow(video_frame)"
   ]
  },
  {
   "cell_type": "code",
   "execution_count": 236,
   "metadata": {
    "collapsed": false
   },
   "outputs": [
    {
     "data": {
      "text/plain": [
       "array([[255,   0,   0],\n",
       "       [255,   0,   0],\n",
       "       [255,   0,   0],\n",
       "       [255,   0,   0],\n",
       "       [255,   0,   0],\n",
       "       [255,   0,   0],\n",
       "       [255,   0,   0],\n",
       "       [255,   0,   0],\n",
       "       [255,   0,   0],\n",
       "       [255,   0,   0],\n",
       "       [255,   0,   0],\n",
       "       [255,   0,   0],\n",
       "       [255,   0,   0],\n",
       "       [255,   0,   0],\n",
       "       [255,   0,   0],\n",
       "       [255,   0,   0]], dtype=uint8)"
      ]
     },
     "execution_count": 236,
     "metadata": {},
     "output_type": "execute_result"
    }
   ],
   "source": [
    "video_frame[0]"
   ]
  },
  {
   "cell_type": "code",
   "execution_count": 237,
   "metadata": {
    "collapsed": false
   },
   "outputs": [
    {
     "data": {
      "text/plain": [
       "array([[[255,   0,   0],\n",
       "        [255,   0,   0],\n",
       "        [255,   0,   0],\n",
       "        [255,   0,   0],\n",
       "        [255,   0,   0],\n",
       "        [225,   0,   0],\n",
       "        [225,   0,   0],\n",
       "        [255,   0,   0],\n",
       "        [225,   0,   0],\n",
       "        [255,   0,   0],\n",
       "        [255,   0,   0],\n",
       "        [255,   0,   0],\n",
       "        [255,   0,   0],\n",
       "        [255,   0,   0],\n",
       "        [255,   0,   0],\n",
       "        [255,   0,   0]],\n",
       "\n",
       "       [[255,   0,   0],\n",
       "        [255,   0,   0],\n",
       "        [255,   0,   0],\n",
       "        [255,   0,   0],\n",
       "        [255,   0,   0],\n",
       "        [255,   0,   0],\n",
       "        [255,   0,   0],\n",
       "        [255,   0,   0],\n",
       "        [255,   0,   0],\n",
       "        [255,   0,   0],\n",
       "        [255,   0,   0],\n",
       "        [255,   0,   0],\n",
       "        [255,   0,   0],\n",
       "        [255,   0,   0],\n",
       "        [255,   0,   0],\n",
       "        [255,   0,   0]],\n",
       "\n",
       "       [[255,   0,   0],\n",
       "        [255,   0,   0],\n",
       "        [255,   0,   0],\n",
       "        [255,   0,   0],\n",
       "        [255,   0,   0],\n",
       "        [225,   0,   0],\n",
       "        [255,   0,   0],\n",
       "        [255,   0,   0],\n",
       "        [255,   0,   0],\n",
       "        [255,   0,   0],\n",
       "        [255,   0,   0],\n",
       "        [255,   0,   0],\n",
       "        [255,   0,   0],\n",
       "        [255,   0,   0],\n",
       "        [255,   0,   0],\n",
       "        [255,   0,   0]],\n",
       "\n",
       "       [[255,   0,   0],\n",
       "        [255,   0,   0],\n",
       "        [225,   0,   0],\n",
       "        [255,   0,   0],\n",
       "        [255,   0,   0],\n",
       "        [225,   0,   0],\n",
       "        [255,   0,   0],\n",
       "        [225,   0,   0],\n",
       "        [225,   0,   0],\n",
       "        [255,   0,   0],\n",
       "        [255,   0,   0],\n",
       "        [255,   0,   0],\n",
       "        [255,   0,   0],\n",
       "        [255,   0,   0],\n",
       "        [255,   0,   0],\n",
       "        [255,   0,   0]],\n",
       "\n",
       "       [[225,   0,   0],\n",
       "        [255,   0,   0],\n",
       "        [255,   0,   0],\n",
       "        [225,   0,   0],\n",
       "        [225,   0,   0],\n",
       "        [255,   0,   0],\n",
       "        [255,   0,   0],\n",
       "        [255,   0,   0],\n",
       "        [255,   0,   0],\n",
       "        [255,   0,   0],\n",
       "        [255,   0,   0],\n",
       "        [255,   0,   0],\n",
       "        [255,   0,   0],\n",
       "        [255,   0,   0],\n",
       "        [255,   0,   0],\n",
       "        [255,   0,   0]],\n",
       "\n",
       "       [[255,   0,   0],\n",
       "        [255,   0,   0],\n",
       "        [225,   0,   0],\n",
       "        [225,   0,   0],\n",
       "        [255,   0,   0],\n",
       "        [255,   0,   0],\n",
       "        [255,   0,   0],\n",
       "        [225,   0,   0],\n",
       "        [255,   0,   0],\n",
       "        [255,   0,   0],\n",
       "        [255,   0,   0],\n",
       "        [255,   0,   0],\n",
       "        [255,   0,   0],\n",
       "        [255,   0,   0],\n",
       "        [255,   0,   0],\n",
       "        [255,   0,   0]],\n",
       "\n",
       "       [[255,   0,   0],\n",
       "        [255,   0,   0],\n",
       "        [225,   0,   0],\n",
       "        [225,   0,   0],\n",
       "        [255,   0,   0],\n",
       "        [225,   0,   0],\n",
       "        [255,   0,   0],\n",
       "        [255,   0,   0],\n",
       "        [255,   0,   0],\n",
       "        [225,   0,   0],\n",
       "        [255,   0,   0],\n",
       "        [255,   0,   0],\n",
       "        [255,   0,   0],\n",
       "        [255,   0,   0],\n",
       "        [255,   0,   0],\n",
       "        [255,   0,   0]],\n",
       "\n",
       "       [[255,   0,   0],\n",
       "        [255,   0,   0],\n",
       "        [255,   0,   0],\n",
       "        [255,   0,   0],\n",
       "        [255,   0,   0],\n",
       "        [255,   0,   0],\n",
       "        [255,   0,   0],\n",
       "        [255,   0,   0],\n",
       "        [255,   0,   0],\n",
       "        [255,   0,   0],\n",
       "        [255,   0,   0],\n",
       "        [255,   0,   0],\n",
       "        [255,   0,   0],\n",
       "        [255,   0,   0],\n",
       "        [255,   0,   0],\n",
       "        [255,   0,   0]],\n",
       "\n",
       "       [[255,   0,   0],\n",
       "        [255,   0,   0],\n",
       "        [225,   0,   0],\n",
       "        [255,   0,   0],\n",
       "        [255,   0,   0],\n",
       "        [225,   0,   0],\n",
       "        [225,   0,   0],\n",
       "        [255,   0,   0],\n",
       "        [255,   0,   0],\n",
       "        [255,   0,   0],\n",
       "        [255,   0,   0],\n",
       "        [255,   0,   0],\n",
       "        [255,   0,   0],\n",
       "        [255,   0,   0],\n",
       "        [255,   0,   0],\n",
       "        [255,   0,   0]],\n",
       "\n",
       "       [[255,   0,   0],\n",
       "        [255,   0,   0],\n",
       "        [255,   0,   0],\n",
       "        [255,   0,   0],\n",
       "        [225,   0,   0],\n",
       "        [255,   0,   0],\n",
       "        [255,   0,   0],\n",
       "        [255,   0,   0],\n",
       "        [255,   0,   0],\n",
       "        [255,   0,   0],\n",
       "        [255,   0,   0],\n",
       "        [255,   0,   0],\n",
       "        [255,   0,   0],\n",
       "        [255,   0,   0],\n",
       "        [255,   0,   0],\n",
       "        [255,   0,   0]],\n",
       "\n",
       "       [[255,   0,   0],\n",
       "        [255,   0,   0],\n",
       "        [255,   0,   0],\n",
       "        [255,   0,   0],\n",
       "        [255,   0,   0],\n",
       "        [255,   0,   0],\n",
       "        [255,   0,   0],\n",
       "        [255,   0,   0],\n",
       "        [255,   0,   0],\n",
       "        [255,   0,   0],\n",
       "        [255,   0,   0],\n",
       "        [255,   0,   0],\n",
       "        [255,   0,   0],\n",
       "        [255,   0,   0],\n",
       "        [255,   0,   0],\n",
       "        [255,   0,   0]],\n",
       "\n",
       "       [[255,   0,   0],\n",
       "        [255,   0,   0],\n",
       "        [255,   0,   0],\n",
       "        [255,   0,   0],\n",
       "        [255,   0,   0],\n",
       "        [255,   0,   0],\n",
       "        [255,   0,   0],\n",
       "        [255,   0,   0],\n",
       "        [255,   0,   0],\n",
       "        [255,   0,   0],\n",
       "        [255,   0,   0],\n",
       "        [255,   0,   0],\n",
       "        [255,   0,   0],\n",
       "        [255,   0,   0],\n",
       "        [255,   0,   0],\n",
       "        [255,   0,   0]]], dtype=uint8)"
      ]
     },
     "execution_count": 237,
     "metadata": {},
     "output_type": "execute_result"
    }
   ],
   "source": [
    "for _ in range(25):\n",
    "    video_frame[np.random.randint(10)][np.random.randint(10)][0] = 225\n",
    "video_frame"
   ]
  },
  {
   "cell_type": "code",
   "execution_count": 238,
   "metadata": {
    "collapsed": false
   },
   "outputs": [
    {
     "data": {
      "text/plain": [
       "<matplotlib.image.AxesImage at 0x120e64c10>"
      ]
     },
     "execution_count": 238,
     "metadata": {},
     "output_type": "execute_result"
    },
    {
     "data": {
      "image/png": "[encoded data removed]",
      "text/plain": [
       "<matplotlib.figure.Figure at 0x11766bd90>"
      ]
     },
     "metadata": {},
     "output_type": "display_data"
    }
   ],
   "source": [
    "plt.imshow(video_frame)"
   ]
  },
  {
   "cell_type": "code",
   "execution_count": 239,
   "metadata": {
    "collapsed": false
   },
   "outputs": [
    {
     "data": {
      "text/plain": [
       "False"
      ]
     },
     "execution_count": 239,
     "metadata": {},
     "output_type": "execute_result"
    }
   ],
   "source": [
    "np.allclose(video_frame, (255, 0, 0))"
   ]
  },
  {
   "cell_type": "code",
   "execution_count": 240,
   "metadata": {
    "collapsed": false
   },
   "outputs": [
    {
     "data": {
      "text/plain": [
       "True"
      ]
     },
     "execution_count": 240,
     "metadata": {},
     "output_type": "execute_result"
    }
   ],
   "source": [
    "np.allclose(video_frame, (255, 0, 0), atol=30)"
   ]
  },
  {
   "cell_type": "markdown",
   "metadata": {},
   "source": [
    "# Performance"
   ]
  },
  {
   "cell_type": "code",
   "execution_count": 241,
   "metadata": {
    "collapsed": false
   },
   "outputs": [
    {
     "name": "stdout",
     "output_type": "stream",
     "text": [
      "10 loops, best of 3: 20.4 ms per loop\n"
     ]
    }
   ],
   "source": [
    "%%timeit\n",
    "range(1000000)"
   ]
  },
  {
   "cell_type": "code",
   "execution_count": 242,
   "metadata": {
    "collapsed": false
   },
   "outputs": [
    {
     "name": "stdout",
     "output_type": "stream",
     "text": [
      "100 loops, best of 3: 2.46 ms per loop\n"
     ]
    }
   ],
   "source": [
    "%%timeit\n",
    "np.arange(1000000)"
   ]
  },
  {
   "cell_type": "code",
   "execution_count": 243,
   "metadata": {
    "collapsed": false
   },
   "outputs": [
    {
     "name": "stdout",
     "output_type": "stream",
     "text": [
      "The slowest run took 7.17 times longer than the fastest. This could mean that an intermediate result is being cached \n",
      "1000000 loops, best of 3: 1.26 µs per loop\n"
     ]
    }
   ],
   "source": [
    "%%timeit\n",
    "randint(0, 100)"
   ]
  },
  {
   "cell_type": "code",
   "execution_count": 244,
   "metadata": {
    "collapsed": false
   },
   "outputs": [
    {
     "name": "stdout",
     "output_type": "stream",
     "text": [
      "The slowest run took 18.82 times longer than the fastest. This could mean that an intermediate result is being cached \n",
      "1000000 loops, best of 3: 511 ns per loop\n"
     ]
    }
   ],
   "source": [
    "%%timeit\n",
    "np.random.randint(1, 100)"
   ]
  },
  {
   "cell_type": "code",
   "execution_count": 245,
   "metadata": {
    "collapsed": false
   },
   "outputs": [
    {
     "name": "stdout",
     "output_type": "stream",
     "text": [
      "10 loops, best of 3: 41.9 ms per loop\n"
     ]
    }
   ],
   "source": [
    "%%timeit\n",
    "max(range(1000000))"
   ]
  },
  {
   "cell_type": "code",
   "execution_count": 246,
   "metadata": {
    "collapsed": false
   },
   "outputs": [
    {
     "name": "stdout",
     "output_type": "stream",
     "text": [
      "100 loops, best of 3: 3.3 ms per loop\n"
     ]
    }
   ],
   "source": [
    "%%timeit\n",
    "np.max(np.arange(1000000))"
   ]
  },
  {
   "cell_type": "code",
   "execution_count": 247,
   "metadata": {
    "collapsed": false
   },
   "outputs": [
    {
     "name": "stdout",
     "output_type": "stream",
     "text": [
      "10 loops, best of 3: 66.4 ms per loop\n"
     ]
    }
   ],
   "source": [
    "%%timeit\n",
    "max(np.arange(1000000))"
   ]
  }
 ],
 "metadata": {
  "kernelspec": {
   "display_name": "Python 2",
   "language": "python",
   "name": "python2"
  },
  "language_info": {
   "codemirror_mode": {
    "name": "ipython",
    "version": 2
   },
   "file_extension": ".py",
   "mimetype": "text/x-python",
   "name": "python",
   "nbconvert_exporter": "python",
   "pygments_lexer": "ipython2",
   "version": "2.7.10"
  }
 },
 "nbformat": 4,
 "nbformat_minor": 0
}
